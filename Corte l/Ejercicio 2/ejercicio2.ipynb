#ANDRES FELIPE GERENA CONTRERAS - ETITC - TS7A

import pandas as pd
import numpy as np
import matplotlib.pyplot as plt
import seaborn as sns
from sklearn.datasets import fetch_california_housing
from sklearn.model_selection import train_test_split
from sklearn.linear_model import LinearRegression
from sklearn.metrics import mean_squared_error

# Cargar el conjunto de datos de California Housing
housing = fetch_california_housing()

# Se convierte a Dataframe
df = pd.DataFrame(housing.data, columns=housing.feature_names)
df['MEDV'] = housing.target

# Exploración inicial
print(df.head())
print(df.describe())

# Calculación media, mediana y desviación estándar de la variable objetivo (MEDV), teniendo en cuenta los objetivos del ejercicio
print("Media del precio medio de la vivienda:", df['MEDV'].mean())
print("Mediana del precio medio de la vivienda:", df['MEDV'].median())
print("Desviación estándar del precio medio de la vivienda:", df['MEDV'].std())

# Histograma de precios (gráfica)
plt.hist(df['MEDV'], bins=30)
plt.xlabel('Precio medio de la vivienda')
plt.ylabel('Frecuencia')
plt.title('Distribución de precios de viviendas en California')
plt.show()

# Matriz de correlación (gráfica)
corr_matrix = df.corr()
plt.figure(figsize=(10, 8))
sns.heatmap(corr_matrix, annot=True, cmap='coolwarm')
plt.show()

# División en conjuntos de entrenamiento y prueba
X = df.drop('MEDV', axis=1)
y = df['MEDV']
X_train, X_test, y_train, y_test = train_test_split(X, y, test_size=0.2, random_state=42)

# Crear y entrenar un modelo de regresión lineal, pruebas de regresión lineal no necesarias para este punto
model = LinearRegression()
model.fit(X_train, y_train)

# Evaluar el modelo
y_pred = model.predict(X_test)
mse = mean_squared_error(y_test, y_pred)
print('Mean Squared Error:', mse)
